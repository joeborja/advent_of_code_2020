{
 "cells": [
  {
   "cell_type": "markdown",
   "metadata": {},
   "source": [
    "# Advent of Code 2020\n",
    "\n",
    "https://adventofcode.com/2020/"
   ]
  },
  {
   "cell_type": "markdown",
   "metadata": {},
   "source": [
    "## Day 1\n",
    "\n",
    "### Part 1"
   ]
  },
  {
   "cell_type": "code",
   "execution_count": 1,
   "metadata": {},
   "outputs": [
    {
     "name": "stdout",
     "output_type": "stream",
     "text": [
      "1005459\n"
     ]
    }
   ],
   "source": [
    "entries = set()\n",
    "with open('data/day1.txt') as file:\n",
    "    for line in file:\n",
    "        entry, _ = line.split('\\n')\n",
    "        entry = int(entry)\n",
    "        entries.add(entry)\n",
    "        if 2020 - entry in entries:\n",
    "            print(entry * (2020 - entry))"
   ]
  },
  {
   "cell_type": "markdown",
   "metadata": {},
   "source": [
    "### Part 2"
   ]
  },
  {
   "cell_type": "code",
   "execution_count": 2,
   "metadata": {},
   "outputs": [
    {
     "name": "stdout",
     "output_type": "stream",
     "text": [
      "92643264\n"
     ]
    }
   ],
   "source": [
    "for entry1 in entries:\n",
    "    for entry2 in entries:\n",
    "        entry3 = 2020 - entry1 - entry2\n",
    "        if entry3 in entries:\n",
    "            answer = entry1*entry2*entry3\n",
    "print(answer)         "
   ]
  },
  {
   "cell_type": "markdown",
   "metadata": {},
   "source": [
    "## Day 2\n",
    "\n",
    "### Part 1"
   ]
  },
  {
   "cell_type": "code",
   "execution_count": 3,
   "metadata": {},
   "outputs": [
    {
     "name": "stdout",
     "output_type": "stream",
     "text": [
      "582\n"
     ]
    }
   ],
   "source": [
    "valid = 0\n",
    "with open('data/day2.txt') as file:\n",
    "    for line in file:\n",
    "        policy, password = line.split(':')\n",
    "        lower, upper = policy.split('-')\n",
    "        lower = int(lower)\n",
    "        upper, letter = upper.split(' ')\n",
    "        upper = int(upper)\n",
    "        password = password[1:-1]\n",
    "        count = password.count(letter)\n",
    "        if count < lower or count > upper:\n",
    "            pass\n",
    "        else:\n",
    "            valid += 1\n",
    "print(valid)            "
   ]
  },
  {
   "cell_type": "markdown",
   "metadata": {},
   "source": [
    "#Part 2"
   ]
  },
  {
   "cell_type": "code",
   "execution_count": 4,
   "metadata": {},
   "outputs": [
    {
     "name": "stdout",
     "output_type": "stream",
     "text": [
      "729\n"
     ]
    }
   ],
   "source": [
    "valid = 0\n",
    "with open('data/day2.txt') as file:\n",
    "    for line in file:\n",
    "        policy, password = line.split(':')\n",
    "        pos1, pos2 = policy.split('-')\n",
    "        pos1 = int(pos1) - 1\n",
    "        pos2, letter = pos2.split(' ')\n",
    "        pos2 = int(pos2) - 1\n",
    "        password = password[1:-1]\n",
    "        if (password[pos1] == letter) ^ (password[pos2] == letter):\n",
    "            valid += 1\n",
    "\n",
    "print(valid)            "
   ]
  },
  {
   "cell_type": "markdown",
   "metadata": {},
   "source": [
    "# Day 3\n",
    "\n",
    "Part 1"
   ]
  },
  {
   "cell_type": "code",
   "execution_count": 5,
   "metadata": {},
   "outputs": [
    {
     "name": "stdout",
     "output_type": "stream",
     "text": [
      "232\n"
     ]
    }
   ],
   "source": [
    "rows = []\n",
    "with open('data/day3.txt') as file:\n",
    "    for line in file:\n",
    "        row = line[:-1]\n",
    "        rows.append(row)\n",
    "height = len(rows)\n",
    "width = len(rows[0])\n",
    "position = 0\n",
    "num_trees = 0\n",
    "for row in rows:\n",
    "    if row[position] == '#':\n",
    "        num_trees +=1\n",
    "    position = (position + 3) % width\n",
    "print(num_trees)"
   ]
  },
  {
   "cell_type": "markdown",
   "metadata": {},
   "source": [
    "Part 2"
   ]
  },
  {
   "cell_type": "code",
   "execution_count": 6,
   "metadata": {},
   "outputs": [
    {
     "name": "stdout",
     "output_type": "stream",
     "text": [
      "3952291680\n"
     ]
    }
   ],
   "source": [
    "rows = []\n",
    "with open('data/day3.txt') as file:\n",
    "    for line in file:\n",
    "        row = line[:-1]\n",
    "        rows.append(row)\n",
    "height = len(rows)\n",
    "width = len(rows[0])\n",
    "\n",
    "def tree_count(slope_x, slope_y):\n",
    "    position_x = 0\n",
    "    position_y = 0\n",
    "    num_trees = 0\n",
    "    while position_y < height:\n",
    "        if rows[position_y][position_x] == '#':\n",
    "            num_trees +=1\n",
    "        position_x = (position_x + slope_x) % width\n",
    "        position_y += slope_y\n",
    "    return num_trees\n",
    "\n",
    "tests = [(1,1), (3,1), (5,1), (7,1), (1,2)]\n",
    "answer = 1\n",
    "for test in tests:\n",
    "    answer *= tree_count(*test)\n",
    "print(answer)"
   ]
  },
  {
   "cell_type": "markdown",
   "metadata": {},
   "source": [
    "# Day 4\n",
    "\n",
    "Part 1"
   ]
  },
  {
   "cell_type": "code",
   "execution_count": 7,
   "metadata": {},
   "outputs": [
    {
     "name": "stdout",
     "output_type": "stream",
     "text": [
      "204\n"
     ]
    }
   ],
   "source": [
    "num_valid = 0\n",
    "with open('data/day4.txt') as file:\n",
    "    for passport in file.read().split('\\n\\n'):\n",
    "        fields = set()\n",
    "        for line in passport.split('\\n'):\n",
    "            for field in line.split(' '):\n",
    "                field = field[:3]\n",
    "                fields.add(field)\n",
    "        necessary = ['byr', 'iyr', 'eyr', 'hgt', 'hcl', 'ecl', 'pid']\n",
    "        is_valid = 1\n",
    "        for field in necessary:\n",
    "            if field not in fields:\n",
    "                is_valid = 0\n",
    "        num_valid += is_valid\n",
    "print(num_valid)"
   ]
  },
  {
   "cell_type": "markdown",
   "metadata": {},
   "source": [
    "Part 2"
   ]
  },
  {
   "cell_type": "code",
   "execution_count": 8,
   "metadata": {},
   "outputs": [
    {
     "name": "stdout",
     "output_type": "stream",
     "text": [
      "179\n"
     ]
    }
   ],
   "source": [
    "num_valid = 0\n",
    "\n",
    "def check_byr(fields):\n",
    "    # byr (Birth Year) - four digits; at least 1920 and at most 2002.\n",
    "    if 'byr' in fields:\n",
    "        byr = fields['byr']\n",
    "        if len(byr) == 4:\n",
    "            byr = int(byr)\n",
    "            if not (byr >= 1920 and byr <= 2002):\n",
    "                return 0\n",
    "        else:\n",
    "            return 0\n",
    "    else:\n",
    "        return 0\n",
    "    return 1\n",
    "\n",
    "def check_iyr(fields):\n",
    "    # iyr (Issue Year) - four digits; at least 2010 and at most 2020.\n",
    "    if 'iyr' in fields:\n",
    "        iyr = fields['iyr']\n",
    "        if len(iyr) == 4:\n",
    "            iyr = int(iyr)\n",
    "            if not (iyr >= 2010 and iyr <= 2020):\n",
    "                return 0\n",
    "        else:\n",
    "            return 0\n",
    "    else:\n",
    "        return 0\n",
    "    return 1\n",
    "\n",
    "def check_eyr(fields):\n",
    "    # eyr (Expiration Year) - four digits; at least 2020 and at most 2030.\n",
    "    if 'eyr' in fields:\n",
    "        eyr = fields['eyr']\n",
    "        if len(eyr) == 4:\n",
    "            eyr = int(eyr)\n",
    "            if not (eyr >= 2020 and eyr <= 2030):\n",
    "                return 0\n",
    "        else:\n",
    "            return 0\n",
    "    else:\n",
    "        return 0\n",
    "    return 1\n",
    "\n",
    "def check_hgt(fields):\n",
    "    # hgt (Height) - a number followed by either cm or in:\n",
    "    # If cm, the number must be at least 150 and at most 193.\n",
    "    # If in, the number must be at least 59 and at most 76.\n",
    "    if 'hgt' in fields:\n",
    "        hgt = fields['hgt']\n",
    "        unit = hgt[-2:]\n",
    "        if unit == 'cm' or unit == 'in':\n",
    "            hgt = int(hgt[:-2])\n",
    "            if unit == 'cm' and not (hgt >= 150 and hgt <= 193):\n",
    "                return 0\n",
    "            if unit == 'in' and not (hgt >= 59 and hgt <= 76):\n",
    "                return 0\n",
    "        else:\n",
    "            return 0\n",
    "    else:\n",
    "        return 0\n",
    "    return 1\n",
    "\n",
    "def check_hcl(fields):\n",
    "    # hcl (Hair Color) - a # followed by exactly six characters 0-9 or a-f.\n",
    "    if 'hcl' in fields:\n",
    "        hcl = fields['hcl']\n",
    "        if hcl[0] == '#':\n",
    "            for char in hcl[1:]:\n",
    "                if char not in '0123456789abcdef':\n",
    "                    return 0\n",
    "        else:\n",
    "            return 0\n",
    "        \n",
    "    else:\n",
    "        return 0\n",
    "    return 1\n",
    "\n",
    "def check_ecl(fields):\n",
    "    # ecl (Eye Color) - exactly one of: amb blu brn gry grn hzl oth.\n",
    "    if 'ecl' in fields:\n",
    "        ecl = fields['ecl']\n",
    "        if ecl not in ['amb', 'blu', 'brn', 'gry', 'grn', 'hzl', 'oth']:\n",
    "            return 0\n",
    "    else:\n",
    "        return 0\n",
    "    return 1\n",
    "\n",
    "def check_pid(fields):\n",
    "    # pid (Passport ID) - a nine-digit number, including leading zeroes.\n",
    "    if 'pid' in fields:\n",
    "        pid = fields['pid']\n",
    "        if len(pid) != 9:\n",
    "            return 0\n",
    "    else:\n",
    "        return 0\n",
    "    return 1\n",
    "\n",
    "with open('data/day4.txt') as file:\n",
    "    passports = file.read().split('\\n\\n')\n",
    "    for passport in passports:\n",
    "        fields = {}\n",
    "        for line in passport.split('\\n'):\n",
    "            for field in line.split(' '):\n",
    "                try:\n",
    "                    key, value = field.split(':')\n",
    "                    fields[key] = value\n",
    "                except:\n",
    "                    pass\n",
    "        is_valid = 1\n",
    "        is_valid *= check_byr(fields)\n",
    "        is_valid *= check_iyr(fields)\n",
    "        is_valid *= check_eyr(fields)\n",
    "        is_valid *= check_eyr(fields)\n",
    "        is_valid *= check_hgt(fields)\n",
    "        is_valid *= check_hcl(fields)\n",
    "        is_valid *= check_ecl(fields)\n",
    "        is_valid *= check_pid(fields)\n",
    "        num_valid += is_valid\n",
    "print(num_valid)"
   ]
  },
  {
   "cell_type": "markdown",
   "metadata": {},
   "source": [
    "# Day 5"
   ]
  },
  {
   "cell_type": "markdown",
   "metadata": {},
   "source": [
    "Part 1"
   ]
  },
  {
   "cell_type": "code",
   "execution_count": 9,
   "metadata": {},
   "outputs": [
    {
     "name": "stdout",
     "output_type": "stream",
     "text": [
      "947\n"
     ]
    }
   ],
   "source": [
    "max_seat_id = 0\n",
    "\n",
    "def find_row(row_string):\n",
    "    row = row_string.replace('F','0')\n",
    "    row = row.replace('B','1')\n",
    "    row = int(row, 2)\n",
    "    return row\n",
    "\n",
    "def find_column(column_string):\n",
    "    column = column_string.replace('L', '0')\n",
    "    column = column.replace('R', '1')\n",
    "    column = int(column, 2)\n",
    "    return column\n",
    "\n",
    "def find_seat(seat):\n",
    "    row_string = seat[:-3]\n",
    "    column_string = seat[-3:]\n",
    "    row = find_row(row_string)\n",
    "    column = find_column(column_string)\n",
    "    return row, column\n",
    "\n",
    "def find_seat_id(seat):\n",
    "    row, column = find_seat(seat)\n",
    "    return row * 8 + column\n",
    "\n",
    "seat_ids = []\n",
    "with open('data/day5.txt') as file:\n",
    "    seats = file.read().split()\n",
    "    for seat in seats:\n",
    "        seat_id = find_seat_id(seat)\n",
    "        seat_ids.append(seat_id)\n",
    "print(max(seat_ids))"
   ]
  },
  {
   "cell_type": "markdown",
   "metadata": {},
   "source": [
    "Part 2"
   ]
  },
  {
   "cell_type": "code",
   "execution_count": 10,
   "metadata": {},
   "outputs": [
    {
     "name": "stdout",
     "output_type": "stream",
     "text": [
      "636\n"
     ]
    }
   ],
   "source": [
    "seat_ids = set(sorted(seat_ids))\n",
    "for seat_id in seat_ids:\n",
    "    if not (seat_id + 1 in seat_ids) and (seat_id + 2 in seat_ids):\n",
    "        print(seat_id+1)"
   ]
  }
 ],
 "metadata": {
  "kernelspec": {
   "display_name": "Python 3",
   "language": "python",
   "name": "python3"
  },
  "language_info": {
   "codemirror_mode": {
    "name": "ipython",
    "version": 3
   },
   "file_extension": ".py",
   "mimetype": "text/x-python",
   "name": "python",
   "nbconvert_exporter": "python",
   "pygments_lexer": "ipython3",
   "version": "3.7.4"
  }
 },
 "nbformat": 4,
 "nbformat_minor": 2
}
